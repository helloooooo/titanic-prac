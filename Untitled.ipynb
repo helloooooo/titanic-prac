{
 "cells": [
  {
   "cell_type": "code",
   "execution_count": 70,
   "metadata": {},
   "outputs": [],
   "source": [
    "import pandas as pd \n",
    "from sklearn.ensemble import RandomForestClassifier\n",
    "\n",
    "df_train = pd.read_csv('../train.csv')\n",
    "df_test = pd.read_csv('../test.csv')\n",
    "\n",
    "df_train.loc[df_train['PassengerId'].isin([62,830]),'Embarked'] = 'C'\n",
    "\n",
    "df_test.loc[df_test['PassengerId'] == 1044,'Fare'] = 13.6750\n",
    "\n",
    "def title_to_num(title):\n",
    "    if title == 'Master':\n",
    "        return 1\n",
    "    elif title == 'Miss':\n",
    "        return 2\n",
    "    elif title == 'Mr':\n",
    "        return 3\n",
    "    elif title == 'Mrs':\n",
    "        return 4\n",
    "    else:\n",
    "        return 5\n",
    "    \n",
    "\n",
    "def impute_age(cols):\n",
    "    Age = cols[0]\n",
    "    Pclass = cols[1]\n",
    "    \n",
    "    if pd.isnull(Age):\n",
    "        if Pclass == 1:\n",
    "            return 39\n",
    "        elif Pclass == 2:\n",
    "            return 30\n",
    "        else:\n",
    "            return 25\n",
    "    else:\n",
    "        return Age\n",
    "    \n",
    "data = [df_train,df_test]\n",
    "\n",
    "for df in data:\n",
    "    \n",
    "    df['Age'] =df[['Age','Pclass']].apply(impute_age,axis = 1)\n",
    "    \n",
    "    \n",
    "    df['Sex'] = df['Sex'].map({'male':0,'female':1})\n",
    "    \n",
    "    df['Embarked'] = df['Embarked'].map({'S':0,'C':1,'Q':2}).astype(int)\n",
    "    \n",
    "    df.loc[df['Fare'] <= 7.91,'Fare'] = 0\n",
    "    df.loc[(df['Fare'] > 7.91) & (df['Fare'] <= 14.454),'Fare'] = 1\n",
    "    df.loc[(df['Fare'] > 14.454) & (df['Fare'] <=  31),'Fare'] = 2 \n",
    "    df.loc[df['Fare'] > 31, 'Fare'] = 3\n",
    "    df['Fare'] = df['Fare'].astype(int)\n",
    "    df.loc[df['Age'] <= 16,'Age'] = 0\n",
    "    df.loc[(df['Age'] > 16) & (df['Age'] <= 32),'Age'] = 1\n",
    "    df.loc[(df['Age'] > 32) & (df['Age'] <=  48),'Age'] = 2 \n",
    "    df.loc[df['Age'] > 48, 'Age'] = 3\n",
    "    df['Age'] = df['Age'].astype(int)\n",
    "    \n",
    "    df['FamilySize'] = df['SibSp'] + df['Parch']+  1\n",
    "    df['IsAlone'] = 0 \n",
    "    df.loc[df['FamilySize'] == 1,'IsAlone'] = 1\n",
    "    df['Name'] = df.Name.str.extract('([A-Za-z]+)\\.',expand =False)\n",
    "    df['Name'] = [title_to_num(i) for i in df['Name']]\n",
    "    \n",
    "\n",
    "    "
   ]
  },
  {
   "cell_type": "code",
   "execution_count": 71,
   "metadata": {},
   "outputs": [
    {
     "name": "stdout",
     "output_type": "stream",
     "text": [
      "<class 'pandas.core.frame.DataFrame'>\n",
      "RangeIndex: 891 entries, 0 to 890\n",
      "Data columns (total 10 columns):\n",
      "PassengerId    891 non-null int64\n",
      "Survived       891 non-null int64\n",
      "Pclass         891 non-null int64\n",
      "Name           891 non-null int64\n",
      "Sex            891 non-null int64\n",
      "Age            891 non-null int64\n",
      "Fare           891 non-null int64\n",
      "Embarked       891 non-null int64\n",
      "FamilySize     891 non-null int64\n",
      "IsAlone        891 non-null int64\n",
      "dtypes: int64(10)\n",
      "memory usage: 69.7 KB\n",
      "None\n"
     ]
    }
   ],
   "source": [
    "df_train.drop(['Cabin','Ticket','SibSp','Parch'],axis = 1, inplace = True)\n",
    "df_test.drop(['Cabin','Ticket','SibSp','Parch'],axis = 1, inplace = True)\n",
    "print(df_train.info())\n",
    "X_train = df_train.drop(['PassengerId','Survived'],axis=1)\n",
    "Y_train = df_train['Survived']\n",
    "X_test = df_test.drop('PassengerId',axis= 1).copy()\n",
    "\n"
   ]
  },
  {
   "cell_type": "code",
   "execution_count": 72,
   "metadata": {},
   "outputs": [],
   "source": [
    "\n",
    "forest = RandomForestClassifier(random_state = 1)\n",
    "forest.fit(X_train,Y_train)\n",
    "Y_pred= forest.predict(X_test)\n",
    "submission = pd.DataFrame({\n",
    "    'PassengerId':df_test['PassengerId'],\n",
    "    'Survived':Y_pred\n",
    "})\n",
    "submission.to_csv(\"Submit.csv\",index = False)"
   ]
  },
  {
   "cell_type": "code",
   "execution_count": 73,
   "metadata": {},
   "outputs": [
    {
     "data": {
      "text/html": [
       "<div>\n",
       "<style scoped>\n",
       "    .dataframe tbody tr th:only-of-type {\n",
       "        vertical-align: middle;\n",
       "    }\n",
       "\n",
       "    .dataframe tbody tr th {\n",
       "        vertical-align: top;\n",
       "    }\n",
       "\n",
       "    .dataframe thead th {\n",
       "        text-align: right;\n",
       "    }\n",
       "</style>\n",
       "<table border=\"1\" class=\"dataframe\">\n",
       "  <thead>\n",
       "    <tr style=\"text-align: right;\">\n",
       "      <th></th>\n",
       "      <th>Pclass</th>\n",
       "      <th>Name</th>\n",
       "      <th>Sex</th>\n",
       "      <th>Age</th>\n",
       "      <th>Fare</th>\n",
       "      <th>Embarked</th>\n",
       "      <th>FamilySize</th>\n",
       "      <th>IsAlone</th>\n",
       "    </tr>\n",
       "  </thead>\n",
       "  <tbody>\n",
       "    <tr>\n",
       "      <th>0</th>\n",
       "      <td>3</td>\n",
       "      <td>3</td>\n",
       "      <td>0</td>\n",
       "      <td>1</td>\n",
       "      <td>0</td>\n",
       "      <td>0</td>\n",
       "      <td>2</td>\n",
       "      <td>0</td>\n",
       "    </tr>\n",
       "    <tr>\n",
       "      <th>1</th>\n",
       "      <td>1</td>\n",
       "      <td>4</td>\n",
       "      <td>1</td>\n",
       "      <td>2</td>\n",
       "      <td>3</td>\n",
       "      <td>1</td>\n",
       "      <td>2</td>\n",
       "      <td>0</td>\n",
       "    </tr>\n",
       "    <tr>\n",
       "      <th>2</th>\n",
       "      <td>3</td>\n",
       "      <td>2</td>\n",
       "      <td>1</td>\n",
       "      <td>1</td>\n",
       "      <td>1</td>\n",
       "      <td>0</td>\n",
       "      <td>1</td>\n",
       "      <td>1</td>\n",
       "    </tr>\n",
       "    <tr>\n",
       "      <th>3</th>\n",
       "      <td>1</td>\n",
       "      <td>4</td>\n",
       "      <td>1</td>\n",
       "      <td>2</td>\n",
       "      <td>3</td>\n",
       "      <td>0</td>\n",
       "      <td>2</td>\n",
       "      <td>0</td>\n",
       "    </tr>\n",
       "    <tr>\n",
       "      <th>4</th>\n",
       "      <td>3</td>\n",
       "      <td>3</td>\n",
       "      <td>0</td>\n",
       "      <td>2</td>\n",
       "      <td>1</td>\n",
       "      <td>0</td>\n",
       "      <td>1</td>\n",
       "      <td>1</td>\n",
       "    </tr>\n",
       "  </tbody>\n",
       "</table>\n",
       "</div>"
      ],
      "text/plain": [
       "   Pclass  Name  Sex  Age  Fare  Embarked  FamilySize  IsAlone\n",
       "0       3     3    0    1     0         0           2        0\n",
       "1       1     4    1    2     3         1           2        0\n",
       "2       3     2    1    1     1         0           1        1\n",
       "3       1     4    1    2     3         0           2        0\n",
       "4       3     3    0    2     1         0           1        1"
      ]
     },
     "execution_count": 73,
     "metadata": {},
     "output_type": "execute_result"
    }
   ],
   "source": [
    "X_train.head()"
   ]
  },
  {
   "cell_type": "code",
   "execution_count": 74,
   "metadata": {},
   "outputs": [
    {
     "name": "stdout",
     "output_type": "stream",
     "text": [
      "Pclass 0.1323\n",
      "Name 0.2485\n",
      "Sex 0.2155\n",
      "Age 0.0939\n",
      "Fare 0.1066\n",
      "Embarked 0.0583\n",
      "FamilySize 0.1343\n",
      "IsAlone 0.0106\n"
     ]
    }
   ],
   "source": [
    "for i,k in zip(X_train.columns,forest.feature_importances_):\n",
    "    print(i,round(k,4))"
   ]
  },
  {
   "cell_type": "code",
   "execution_count": 75,
   "metadata": {},
   "outputs": [],
   "source": [
    "def calc(df_train,df_test):\n",
    "    X_train = df_train.drop(['PassengerId','Survived'],axis=1)\n",
    "    Y_train = df_train['Survived']\n",
    "    X_test = df_test.drop('PassengerId',axis= 1).copy()\n",
    "    forest = RandomForestClassifier(random_state = 1)\n",
    "    forest.fit(X_train,Y_train)\n",
    "    Y_pred= forest.predict(X_test)\n",
    "    submission = pd.DataFrame({\n",
    "        'PassengerId':df_test['PassengerId'],\n",
    "        'Survived':Y_pred\n",
    "    })\n",
    "    submission.to_csv(\"Submit.csv\",index = False)"
   ]
  },
  {
   "cell_type": "code",
   "execution_count": 76,
   "metadata": {},
   "outputs": [],
   "source": [
    "#df_train.drop(['FamilySize','IsAlone','Embarked'],axis = 1,inplace=True)\n",
    "df_train.drop('IsAlone',axis = 1, inplace=True)\n",
    "df_test.drop('IsAlone',axis = 1, inplace=True)\n",
    "#df_test.drop(['FamilySize','IsAlone','Embarked'],axis = 1,inplace=True)"
   ]
  },
  {
   "cell_type": "code",
   "execution_count": 80,
   "metadata": {},
   "outputs": [],
   "source": [
    "    X_train = df_train.drop(['PassengerId','Survived'],axis=1)\n",
    "    Y_train = df_train['Survived']\n",
    "    X_test = df_test.drop('PassengerId',axis= 1).copy()\n",
    "    forest = RandomForestClassifier(random_state = 1)\n",
    "    forest.fit(X_train,Y_train)\n",
    "    Y_pred= forest.predict(X_test)\n",
    "    submission = pd.DataFrame({\n",
    "        'PassengerId':df_test['PassengerId'],\n",
    "        'Survived':Y_pred\n",
    "    })\n",
    "    submission.to_csv(\"Submit.csv\",index = False)"
   ]
  },
  {
   "cell_type": "code",
   "execution_count": 78,
   "metadata": {},
   "outputs": [
    {
     "name": "stdout",
     "output_type": "stream",
     "text": [
      "Pclass 0.1453\n",
      "Name 0.1912\n",
      "Sex 0.2717\n",
      "Age 0.0887\n",
      "Fare 0.0975\n",
      "Embarked 0.0542\n",
      "FamilySize 0.1514\n"
     ]
    }
   ],
   "source": [
    "for i,k in zip(X_train.columns,forest.feature_importances_):\n",
    "    print(i,round(k,4))\n",
    "    "
   ]
  },
  {
   "cell_type": "code",
   "execution_count": 81,
   "metadata": {},
   "outputs": [
    {
     "name": "stdout",
     "output_type": "stream",
     "text": [
      "87.54 %\n"
     ]
    }
   ],
   "source": [
    "print(round(round(forest.score(X_train,Y_train)*100,2),2),'%')"
   ]
  },
  {
   "cell_type": "code",
   "execution_count": null,
   "metadata": {},
   "outputs": [],
   "source": []
  },
  {
   "cell_type": "code",
   "execution_count": null,
   "metadata": {},
   "outputs": [],
   "source": []
  }
 ],
 "metadata": {
  "kernelspec": {
   "display_name": "Python 3",
   "language": "python",
   "name": "python3"
  },
  "language_info": {
   "codemirror_mode": {
    "name": "ipython",
    "version": 3
   },
   "file_extension": ".py",
   "mimetype": "text/x-python",
   "name": "python",
   "nbconvert_exporter": "python",
   "pygments_lexer": "ipython3",
   "version": "3.5.4"
  }
 },
 "nbformat": 4,
 "nbformat_minor": 2
}
